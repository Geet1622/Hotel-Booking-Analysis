{
  "nbformat": 4,
  "nbformat_minor": 0,
  "metadata": {
    "colab": {
      "private_outputs": true,
      "provenance": [],
      "collapsed_sections": [
        "vncDsAP0Gaoa",
        "FJNUwmbgGyua",
        "w6K7xa23Elo4",
        "yQaldy8SH6Dl",
        "PH-0ReGfmX4f",
        "mDgbUHAGgjLW",
        "O_i_v8NEhb9l",
        "HhfV-JJviCcP",
        "Y3lxredqlCYt",
        "3RnN4peoiCZX",
        "x71ZqKXriCWQ",
        "7hBIi_osiCS2",
        "JlHwYmJAmNHm",
        "35m5QtbWiB9F",
        "PoPl-ycgm1ru",
        "H0kj-8xxnORC",
        "nA9Y7ga8ng1Z",
        "PBTbrJXOngz2",
        "u3PMJOP6ngxN",
        "dauF4eBmngu3",
        "bKJF3rekwFvQ",
        "MSa1f5Uengrz",
        "GF8Ens_Soomf",
        "0wOQAZs5pc--",
        "K5QZ13OEpz2H",
        "lQ7QKXXCp7Bj",
        "448CDAPjqfQr",
        "KSlN3yHqYklG",
        "t6dVpIINYklI",
        "ijmpgYnKYklI",
        "-JiQyfWJYklI",
        "EM7whBJCYoAo",
        "fge-S5ZAYoAp",
        "85gYPyotYoAp",
        "RoGjAbkUYoAp",
        "4Of9eVA-YrdM",
        "iky9q4vBYrdO",
        "F6T5p64dYrdO",
        "y-Ehk30pYrdP",
        "bamQiAODYuh1",
        "QHF8YVU7Yuh3",
        "GwzvFGzlYuh3",
        "qYpmQ266Yuh3",
        "OH-pJp9IphqM",
        "bbFf2-_FphqN",
        "_ouA3fa0phqN",
        "Seke61FWphqN",
        "PIIx-8_IphqN",
        "t27r6nlMphqO",
        "r2jJGEOYphqO",
        "b0JNsNcRphqO",
        "BZR9WyysphqO",
        "jj7wYXLtphqO",
        "eZrbJ2SmphqO",
        "rFu4xreNphqO",
        "YJ55k-q6phqO",
        "gCFgpxoyphqP",
        "OVtJsKN_phqQ",
        "lssrdh5qphqQ",
        "U2RJ9gkRphqQ",
        "1M8mcRywphqQ",
        "tgIPom80phqQ",
        "JMzcOPDDphqR",
        "x-EpHcCOp1ci",
        "X_VqEhTip1ck",
        "8zGJKyg5p1ck",
        "PVzmfK_Ep1ck",
        "n3dbpmDWp1ck",
        "ylSl6qgtp1ck",
        "ZWILFDl5p1ck",
        "M7G43BXep1ck",
        "Ag9LCva-p1cl",
        "E6MkPsBcp1cl",
        "2cELzS2fp1cl",
        "3MPXvC8up1cl",
        "NC_X3p0fY2L0",
        "UV0SzAkaZNRQ",
        "YPEH6qLeZNRQ",
        "q29F0dvdveiT",
        "EXh0U9oCveiU",
        "22aHeOlLveiV",
        "JcMwzZxoAimU",
        "8G2x9gOozGDZ",
        "gCX9965dhzqZ",
        "gIfDvo9L0UH2"
      ],
      "include_colab_link": true
    },
    "kernelspec": {
      "name": "python3",
      "display_name": "Python 3"
    },
    "language_info": {
      "name": "python"
    }
  },
  "cells": [
    {
      "cell_type": "markdown",
      "metadata": {
        "id": "view-in-github",
        "colab_type": "text"
      },
      "source": [
        "<a href=\"https://colab.research.google.com/github/Geet1622/Hotel-Booking-Analysis/blob/main/Hote_Booking_Analysis_EDA.ipynb\" target=\"_parent\"><img src=\"https://colab.research.google.com/assets/colab-badge.svg\" alt=\"Open In Colab\"/></a>"
      ]
    },
    {
      "cell_type": "markdown",
      "source": [
        "# **Hotel Booking Analysis-**\n",
        "\n"
      ],
      "metadata": {
        "id": "vncDsAP0Gaoa"
      }
    },
    {
      "cell_type": "markdown",
      "source": [
        "##### **Project Type**    - EDA/Regression/Classification/Unsupervised\n",
        "##### **Contribution**    - Individual\n",
        "#####**Team Member **     -Geetanjali Nhawalde\n"
      ],
      "metadata": {
        "id": "beRrZCGUAJYm"
      }
    },
    {
      "cell_type": "markdown",
      "source": [
        "# **Project Summary -**"
      ],
      "metadata": {
        "id": "FJNUwmbgGyua"
      }
    },
    {
      "cell_type": "markdown",
      "source": [
        "Introduction - The Hotel Booking Analysis EDA project is an individual initiative focused on extracting valuable insights from a comprehensive dataset containing hotel booking information. By conducting exploratory data analysis, this project aims to uncover patterns, trends, and factors that significantly influence hotel bookings. The ultimate objective is to utilize the derived insights to assist hotel management and industry stakeholders in making data-driven decisions, optimizing their operations, and elevating customer satisfaction levels. The core focus of this EDA project is to visualize the data comprehensively and derive actionable insights to enhance the user interface, increase bookings, identify key performance indicators, and identify areas for improvement to provide customers with an exceptional experience."
      ],
      "metadata": {
        "id": "F6v_1wHtG2nS"
      }
    },
    {
      "cell_type": "markdown",
      "source": [
        "# **GitHub Link -**"
      ],
      "metadata": {
        "id": "w6K7xa23Elo4"
      }
    },
    {
      "cell_type": "markdown",
      "source": [
        "Provide your GitHub Link here."
      ],
      "metadata": {
        "id": "h1o69JH3Eqqn"
      }
    },
    {
      "cell_type": "markdown",
      "source": [
        "# **Problem Statement**\n"
      ],
      "metadata": {
        "id": "yQaldy8SH6Dl"
      }
    },
    {
      "cell_type": "markdown",
      "source": [
        "Problem Statement - The Hotel Booking Analysis EDA project aims to conduct a comprehensive exploratory data analysis on a dataset containing 1,19,390 rows and various attributes related to hotel bookings. The objective is to extract meaningful insights and identify key patterns, trends, and factors influencing hotel bookings. The project seeks to address the following questions:\n",
        "\n",
        "What are the main factors that contribute to hotel booking cancellations, and how can these be minimized to improve hotel revenue and occupancy rates?\n",
        "\n",
        "How does lead time (the time between booking and arrival) affect booking behavior, and what strategies can be implemented to optimize room availability and pricing?\n",
        "\n",
        "Can customer segmentation based on demographics, market segments, or customer types provide valuable insights to personalize services and enhance customer satisfaction?\n",
        "\n",
        "What are the most popular room types, meal preferences, and special requests made by guests, and how can hotels use this information to tailor their offerings to meet customer expectations?\n",
        "\n",
        "How does the seasonality of hotel bookings influence business performance, and what measures can be taken to address fluctuations in demand?"
      ],
      "metadata": {
        "id": "DpeJGUA3kjGy"
      }
    },
    {
      "cell_type": "markdown",
      "source": [
        "#### **Define Your Business Objective?**"
      ],
      "metadata": {
        "id": "PH-0ReGfmX4f"
      }
    },
    {
      "cell_type": "markdown",
      "source": [
        "The Business Objective of the Hotel Booking Analysis EDA project is to use data analysis to enhance the hotel's performance, improve customer satisfaction, and maximize revenue. By understanding booking patterns, customer preferences, and operational efficiency, the project aims to make informed decisions that optimize resource allocation, personalize services, and implement effective marketing strategies to attract and retain guests. Ultimately, the project seeks to position the hotel as a preferred choice for guests and achieve long-term success in the competitive market."
      ],
      "metadata": {
        "id": "-U0Z9rzEPagv"
      }
    },
    {
      "cell_type": "markdown",
      "source": [
        "Answer Here."
      ],
      "metadata": {
        "id": "PhDvGCAqmjP1"
      }
    },
    {
      "cell_type": "markdown",
      "source": [
        "# **General Guidelines** : -  "
      ],
      "metadata": {
        "id": "mDgbUHAGgjLW"
      }
    },
    {
      "cell_type": "markdown",
      "source": [
        "1.   Well-structured, formatted, and commented code is required.\n",
        "2.   Exception Handling, Production Grade Code & Deployment Ready Code will be a plus. Those students will be awarded some additional credits.\n",
        "     \n",
        "     The additional credits will have advantages over other students during Star Student selection.\n",
        "       \n",
        "             [ Note: - Deployment Ready Code is defined as, the whole .ipynb notebook should be executable in one go\n",
        "                       without a single error logged. ]\n",
        "\n",
        "3.   Each and every logic should have proper comments.\n",
        "4. You may add as many number of charts you want. Make Sure for each and every chart the following format should be answered.\n",
        "        \n",
        "\n",
        "```\n",
        "# Chart visualization code\n",
        "```\n",
        "            \n",
        "\n",
        "*   Why did you pick the specific chart?\n",
        "*   What is/are the insight(s) found from the chart?\n",
        "* Will the gained insights help creating a positive business impact?\n",
        "Are there any insights that lead to negative growth? Justify with specific reason.\n",
        "\n",
        "5. You have to create at least 20 logical & meaningful charts having important insights.\n",
        "\n",
        "\n",
        "[ Hints : - Do the Vizualization in  a structured way while following \"UBM\" Rule.\n",
        "\n",
        "U - Univariate Analysis,\n",
        "\n",
        "B - Bivariate Analysis (Numerical - Categorical, Numerical - Numerical, Categorical - Categorical)\n",
        "\n",
        "M - Multivariate Analysis\n",
        " ]\n",
        "\n",
        "\n",
        "\n"
      ],
      "metadata": {
        "id": "ZrxVaUj-hHfC"
      }
    },
    {
      "cell_type": "markdown",
      "source": [
        "# ***Let's Begin !***"
      ],
      "metadata": {
        "id": "O_i_v8NEhb9l"
      }
    },
    {
      "cell_type": "markdown",
      "source": [
        "## ***1. Know Your Data***"
      ],
      "metadata": {
        "id": "HhfV-JJviCcP"
      }
    },
    {
      "cell_type": "markdown",
      "source": [
        "### Import Libraries\n",
        "from google.colab import drive\n",
        "\n",
        "drive.mount('/content/drive')\n",
        "\n",
        "# Import Libraries\n",
        "import numpy as np\n",
        "import pandas as pd\n",
        "import matplotlib\n",
        "import matplotlib.pyplot as plt\n",
        "import seaborn as sns\n",
        "import folium\n",
        "import plotly.express as px\n",
        "%matplotlib inline"
      ],
      "metadata": {
        "id": "Y3lxredqlCYt"
      }
    },
    {
      "cell_type": "code",
      "source": [
        "# Import Libraries\n",
        "from google.colab import drive\n",
        "\n",
        "drive.mount('/content/drive')\n",
        "\n",
        "# Import Libraries\n",
        "import numpy as np\n",
        "import pandas as pd\n",
        "import matplotlib\n",
        "import matplotlib.pyplot as plt\n",
        "import seaborn as sns\n",
        "import folium\n",
        "import plotly.express as px\n",
        "%matplotlib inline"
      ],
      "metadata": {
        "id": "M8Vqi-pPk-HR"
      },
      "execution_count": null,
      "outputs": []
    },
    {
      "cell_type": "markdown",
      "source": [
        "### Dataset Loading"
      ],
      "metadata": {
        "id": "3RnN4peoiCZX"
      }
    },
    {
      "cell_type": "code",
      "source": [
        "# Load Dataset\n",
        "database = (\"/content/drive/MyDrive/Hotel Data/Hotel Bookings (1).csv\")\n",
        "hotel_booking_df =pd .read_csv(database)\n"
      ],
      "metadata": {
        "id": "4CkvbW_SlZ_R"
      },
      "execution_count": null,
      "outputs": []
    },
    {
      "cell_type": "markdown",
      "source": [
        "### Dataset First View"
      ],
      "metadata": {
        "id": "x71ZqKXriCWQ"
      }
    },
    {
      "cell_type": "code",
      "source": [
        "# Dataset First Look'\n",
        "hotel_booking_df"
      ],
      "metadata": {
        "id": "LWNFOSvLl09H"
      },
      "execution_count": null,
      "outputs": []
    },
    {
      "cell_type": "code",
      "source": [
        "hotel_booking_df.tail()"
      ],
      "metadata": {
        "id": "hDCxnq79Q1z7"
      },
      "execution_count": null,
      "outputs": []
    },
    {
      "cell_type": "markdown",
      "source": [
        "### Dataset Rows & Columns count"
      ],
      "metadata": {
        "id": "7hBIi_osiCS2"
      }
    },
    {
      "cell_type": "code",
      "source": [
        "# Dataset Rows & Columns count\n",
        "hotel_booking_df.index"
      ],
      "metadata": {
        "id": "Kllu7SJgmLij"
      },
      "execution_count": null,
      "outputs": []
    },
    {
      "cell_type": "code",
      "source": [
        "hotel_booking_df.columns"
      ],
      "metadata": {
        "id": "rsPkwnHwRKgG"
      },
      "execution_count": null,
      "outputs": []
    },
    {
      "cell_type": "markdown",
      "source": [
        "### Dataset Information"
      ],
      "metadata": {
        "id": "JlHwYmJAmNHm"
      }
    },
    {
      "cell_type": "code",
      "source": [
        "# Dataset Info\n",
        "num_rows = hotel_booking_df.shape[0]\n",
        "num_rows"
      ],
      "metadata": {
        "id": "e9hRXRi6meOf"
      },
      "execution_count": null,
      "outputs": []
    },
    {
      "cell_type": "code",
      "source": [
        "columns_count = hotel_booking_df.shape[1]\n",
        "columns_count"
      ],
      "metadata": {
        "id": "kOtPu0zSRbqz"
      },
      "execution_count": null,
      "outputs": []
    },
    {
      "cell_type": "code",
      "source": [
        "hotel_booking_df.info()\n",
        "\n"
      ],
      "metadata": {
        "id": "S6qmqkLxRjc6"
      },
      "execution_count": null,
      "outputs": []
    },
    {
      "cell_type": "markdown",
      "source": [
        "#### Duplicate Values"
      ],
      "metadata": {
        "id": "35m5QtbWiB9F"
      }
    },
    {
      "cell_type": "code",
      "source": [
        "# Dataset Duplicate Value Count\n",
        "count_duplicates = hotel_booking_df.duplicated().sum()\n",
        "count_duplicates"
      ],
      "metadata": {
        "id": "1sLdpKYkmox0"
      },
      "execution_count": null,
      "outputs": []
    },
    {
      "cell_type": "markdown",
      "source": [
        "#### Missing Values/Null Values"
      ],
      "metadata": {
        "id": "PoPl-ycgm1ru"
      }
    },
    {
      "cell_type": "code",
      "source": [
        "# Missing Values/Null Values Count\n",
        "missing_values_count = hotel_booking_df.isnull().sum()\n",
        "missing_values_count"
      ],
      "metadata": {
        "id": "GgHWkxvamxVg"
      },
      "execution_count": null,
      "outputs": []
    },
    {
      "cell_type": "code",
      "source": [
        "# Visualizing the missing values\n",
        "import matplotlib.pyplot as plt\n",
        "\n",
        "#missing_values_columns and percentage of missing values in the columns\n",
        "missing_columns = ['country', 'agent','company']\n",
        "missing_values_percentage = (hotel_booking_df[missing_columns].isnull().mean())*100\n",
        "\n",
        "#chnage the colour of bars\n",
        "bar_colors = ['blue', 'black', 'red']\n",
        "\n",
        "#Bar_chart to visulaize the missing values in column\n",
        "plt.bar(missing_columns, missing_values_percentage,color = bar_colors)\n",
        "\n",
        "#Labels and titles of Bar_chart\n",
        "plt.xlabel('Missing_values_Columns')\n",
        "plt.ylabel('Percentage of Missing Values')\n",
        "plt.title('Percentage of Missing Values in Columns')\n",
        "plt.show()\n"
      ],
      "metadata": {
        "id": "3q5wnI3om9sJ"
      },
      "execution_count": null,
      "outputs": []
    },
    {
      "cell_type": "markdown",
      "source": [
        "### What did you know about your dataset?"
      ],
      "metadata": {
        "id": "H0kj-8xxnORC"
      }
    },
    {
      "cell_type": "markdown",
      "source": [
        "Based on the provided information about the hotel booking dataset, we have a comprehensive dataset consisting of 119,390 rows and 32 columns. Among these columns, 'country', 'agent', and 'company' have missing or null values, with 'country' having 488 missing values, 'agent' having 16,340 missing values, and 'company' having a substantial 112,593 missing values.\n",
        "\n",
        "With this dataset, we can perform exploratory data analysis (EDA) to gain valuable insights into hotel booking patterns and customer behavior. The dataset contains various features related to bookings, such as 'lead_time', 'arrival_date_year', 'arrival_date_month', 'stays_in_weekend_nights', 'stays_in_week_nights', 'meal', 'market_segment', 'deposit_type', 'days_in_waiting_list', 'customer_type', 'adr', 'required_car_parking_spaces', 'total_of_special_requests', and 'reservation_status'.\n",
        "\n",
        "Key areas of analysis could include understanding cancellation trends, seasonal booking patterns, preferred room types, customer segments, and the impact of booking lead time on cancellations. Additionally, investigating the distribution of special requests and their relationship with customer satisfaction could provide valuable insights for the hotel management. However, it's crucial to handle the missing values appropriately and preprocess the data before delving deeper into the analysis to ensure the reliability and accuracy of the insights gained from the EDA process.\n",
        "\n",
        "Once we handle the missing values, we can dig into the data to find interesting patterns and trends. We'll be able to see things like when most people book their stays, which months are busier for the hotel, and how long people usually wait between booking and arriving. We can also find out which type of hotel room is the most popular and what kind of guests visit the hotel the most.By doing this, we'll gain valuable insights that can help the hotel make better decisions and improve their services for guests. But, it's essential to start by cleaning the data and making sure everything is accurate and reliable, so our analysis is based on solid information.Answer Here"
      ],
      "metadata": {
        "id": "gfoNAAC-nUe_"
      }
    },
    {
      "cell_type": "markdown",
      "source": [
        "## ***2. Understanding Your Variables***"
      ],
      "metadata": {
        "id": "nA9Y7ga8ng1Z"
      }
    },
    {
      "cell_type": "code",
      "source": [
        "# Dataset Columns\n",
        "hotel_booking_df.columns"
      ],
      "metadata": {
        "id": "j7xfkqrt5Ag5"
      },
      "execution_count": null,
      "outputs": []
    },
    {
      "cell_type": "code",
      "source": [
        "# Dataset Describe\n",
        "hotel_booking_df.describe()"
      ],
      "metadata": {
        "id": "DnOaZdaE5Q5t"
      },
      "execution_count": null,
      "outputs": []
    },
    {
      "cell_type": "code",
      "source": [
        "hotel_booking_df['is_canceled']"
      ],
      "metadata": {
        "id": "Gg_-rvqXS1I9"
      },
      "execution_count": null,
      "outputs": []
    },
    {
      "cell_type": "markdown",
      "source": [
        "### Variables Description"
      ],
      "metadata": {
        "id": "PBTbrJXOngz2"
      }
    },
    {
      "cell_type": "markdown",
      "source": [
        "Hotel - This column represents the type of hotel\n",
        "\n",
        ">is_canceled: This variable indicates whether a booking was canceled or not . The description could mention the cancellation rate based on the mean value and highlight the proportion of canceled bookings.\n",
        "\n",
        ">lead_time: The number of days between the booking date and the arrival date. The description could discuss the average lead time and whether there are any extreme values that might need further investigation.\n",
        "\n",
        ">arrival_date_year: The year of the arrival date. The description could mention the range of years present in the dataset and any trends observed over the years.\n",
        "\n",
        ">arrival_date_week_number: The week number of the year for the arrival date. The description could mention any patterns in booking frequency based on the week number.\n",
        "\n",
        ">arrival_date_day_of_month: The day of the month for the arrival date. The description could discuss any patterns related to specific days of the month.\n",
        "\n",
        ">stays_in_weekend_nights: The number of weekend nights the guest stayed or booked to stay at the hotel. The description could mention the average number of weekend nights and whether weekend stays are more common.\n",
        "\n",
        ">stays_in_week_nights: The number of weekday nights the guest stayed or booked to stay at the hotel. The description could discuss the average number of weekday nights and the overall length of stays.\n",
        "\n",
        ">adults, children, babies: These columns represent the number of adults, children, and babies in the booking, respectively. The description could discuss the typical group size of guests (average values) and any variations in the number of children and babies.\n",
        "\n",
        ">is_repeated_guest: This column indicates if the guest is a repeated guest or not. The description could discuss the proportion of repeated guests and their potential impact on bookings.\n",
        "\n",
        ">previous_cancellations: The number of previous bookings canceled by the guest. The description could discuss the frequency of previous cancellations and its relevance to current bookings.\n",
        "\n",
        ">previous_bookings_not_canceled: The number of previous bookings not canceled by the guest. The description could mention any patterns in guests' history of not canceling bookings.\n",
        "\n",
        ">booking_changes: The number of changes made to the booking. The description could discuss the frequency of booking modifications and their impact on cancellations.\n",
        "\n",
        ">agent : This columns represent the money received by the agent. the description represents the percentage of money. highest rate and lowest rate of the agent.\n",
        "\n",
        ">company - This column reprent the total money. max money, lowest money and mean money received by the company and also represents the trends to analyse the profit and loss structure\n",
        "\n",
        ">days_in_waiting_list: The number of days the booking was in the waiting list before confirmed. The description could discuss the average waiting time and any patterns related to waitlisted bookings.\n",
        "\n",
        ">adr: The average daily rate of the booking. The description could discuss the average cost per night and any variations in pricing.\n",
        "\n",
        ">required_car_parking_spaces: The number of car parking spaces required by the guest. The description could discuss the need for parking spaces among guests.\n",
        "\n",
        ">total_of_special_requests: The total number of special requests made by the guest. The description could discuss the frequency of special requests and the most common types of requests.\n",
        "\n",
        ">meal: This column represents the type of meal booked (e.g., Bed & Breakfast, Half-board, etc.). The description could discuss the different meal types and their popularity among guests.\n",
        "\n",
        ">country: This column contains the country code of the guests. The description could mention the number of unique countries represented in the dataset and any insights into the distribution of guests from different countries.\n",
        "\n",
        ">market_segment: This column represents the market segment designation (e.g., Online Travel Agent, Corporate, etc.). The description could discuss the most common market segments and their significance.\n",
        "\n",
        ">distribution_channel: This column indicates the booking distribution channel (e.g., Direct, Travel Agent). The description could mention the different distribution channels and their usage.\n",
        "\n",
        ">reserved_room_type: This column represents the type of room reserved. The description could discuss the different room types and their popularity among guests.\n",
        "\n",
        ">assigned_room_type: This column represents the type of room actually assigned to the guest. The description could discuss any differences between reserved and assigned room types.\n",
        "\n",
        ">deposit_type: This column indicates the type of deposit made for the booking (e.g., No Deposit, Non-Refundable). The description could discuss the proportion of different deposit types and their relationship with cancellations.\n",
        "\n",
        ">customer_type: This column represents the type of customer (e.g., Transient, Contract, Group). The description could discuss the distribution of customer types and their booking behavior.\n",
        "\n",
        ">reservation_status: This column indicates the status of the reservation (e.g., Check-Out, Canceled, No-Show). The description could discuss the distribution of reservation statuses and any insights related to cancellations or no-shows.\n",
        "\n",
        ">reservation_status_date: This column represents the date on which the reservation status was set. The description could discuss any patterns related to reservation status changes over time.\n",
        "\n",
        "\n",
        "\n",
        "\n",
        "\n",
        "\n",
        "\n"
      ],
      "metadata": {
        "id": "Ei8jMOi7Vgi5"
      }
    },
    {
      "cell_type": "markdown",
      "source": [
        "### Check Unique Values for each variable."
      ],
      "metadata": {
        "id": "u3PMJOP6ngxN"
      }
    },
    {
      "cell_type": "code",
      "source": [
        "# Check Unique Values for each variable.\n",
        "hotel_booking_df['hotel'].unique()"
      ],
      "metadata": {
        "id": "zms12Yq5n-jE"
      },
      "execution_count": null,
      "outputs": []
    },
    {
      "cell_type": "code",
      "source": [
        "hotel_booking_df['is_canceled'].unique()"
      ],
      "metadata": {
        "id": "xfVxF_LwXXtS"
      },
      "execution_count": null,
      "outputs": []
    },
    {
      "cell_type": "code",
      "source": [
        "hotel_booking_df['arrival_date_year'].unique()"
      ],
      "metadata": {
        "id": "4IWxX4sYXhCi"
      },
      "execution_count": null,
      "outputs": []
    },
    {
      "cell_type": "code",
      "source": [
        "hotel_booking_df['meal'].unique()"
      ],
      "metadata": {
        "id": "ykte-MxMXpca"
      },
      "execution_count": null,
      "outputs": []
    },
    {
      "cell_type": "code",
      "source": [
        "hotel_booking_df['market_segment'].unique()"
      ],
      "metadata": {
        "id": "mIezBccKXz1h"
      },
      "execution_count": null,
      "outputs": []
    },
    {
      "cell_type": "code",
      "source": [
        "hotel_booking_df['distribution_channel'].unique()"
      ],
      "metadata": {
        "id": "HO4IRcAtX8ZZ"
      },
      "execution_count": null,
      "outputs": []
    },
    {
      "cell_type": "code",
      "source": [
        "hotel_booking_df['country'].unique()"
      ],
      "metadata": {
        "id": "qI0b_PB8YFP4"
      },
      "execution_count": null,
      "outputs": []
    },
    {
      "cell_type": "code",
      "source": [
        "hotel_booking_df['is_repeated_guest'].unique()"
      ],
      "metadata": {
        "id": "Cc1wMwhAYQKD"
      },
      "execution_count": null,
      "outputs": []
    },
    {
      "cell_type": "code",
      "source": [
        "hotel_booking_df['customer_type'].unique()"
      ],
      "metadata": {
        "id": "XK3P9ufsYXDp"
      },
      "execution_count": null,
      "outputs": []
    },
    {
      "cell_type": "code",
      "source": [
        "hotel_booking_df['deposit_type'].unique()"
      ],
      "metadata": {
        "id": "CUIvvnzeYd-m"
      },
      "execution_count": null,
      "outputs": []
    },
    {
      "cell_type": "code",
      "source": [
        "hotel_booking_df['reservation_status'].unique()"
      ],
      "metadata": {
        "id": "7de1yqyDYk3a"
      },
      "execution_count": null,
      "outputs": []
    },
    {
      "cell_type": "markdown",
      "source": [
        "## 3. ***Data Wrangling***"
      ],
      "metadata": {
        "id": "dauF4eBmngu3"
      }
    },
    {
      "cell_type": "markdown",
      "source": [
        "In the initial state of our hotel booking analysis, we obtained a dataset with 119,390 rows and 32 columns, representing various aspects of hotel bookings. However, the data had some issues that needed attention. Missing values were present in 'country', 'agent', and 'company' columns, and there were duplicate entries as well. To ensure accurate analysis, we cleaned the data by using the following steps :\n",
        "\n",
        "Remove duplicate rows\n",
        "Handling Missing values\n",
        "Convert columns to appropriate datatypes\n",
        "Adding important columns - total guests and total nights stayed"
      ],
      "metadata": {
        "id": "bKJF3rekwFvQ"
      }
    },
    {
      "cell_type": "markdown",
      "source": [
        "Data Wrangaling code"
      ],
      "metadata": {
        "id": "NsUKvAVBZBEe"
      }
    },
    {
      "cell_type": "markdown",
      "source": [
        "# **Step 1 - Removing Duplicate **"
      ],
      "metadata": {
        "id": "7nhO69x9ZKHR"
      }
    },
    {
      "cell_type": "code",
      "source": [
        "# First step is to see the total number of duplicate rows\n",
        "hotel_booking_df[hotel_booking_df.duplicated()].shape\n"
      ],
      "metadata": {
        "id": "p2L4T793ZXuA"
      },
      "execution_count": null,
      "outputs": []
    },
    {
      "cell_type": "code",
      "source": [
        "# Removing Duplicate values\n",
        "hotel_booking_df.drop_duplicates(inplace=True)"
      ],
      "metadata": {
        "id": "44yKYE2wZiY6"
      },
      "execution_count": null,
      "outputs": []
    },
    {
      "cell_type": "code",
      "source": [
        "hotel_booking_df.shape"
      ],
      "metadata": {
        "id": "7XyWShlpZm38"
      },
      "execution_count": null,
      "outputs": []
    },
    {
      "cell_type": "markdown",
      "source": [
        "**Step 2 - Handling Missing values**"
      ],
      "metadata": {
        "id": "yp8SEpzbZ2KD"
      }
    },
    {
      "cell_type": "code",
      "source": [
        "\n",
        "# Total number of missing values in the DataFrame\n",
        "hotel_booking_df.isnull().sum()"
      ],
      "metadata": {
        "id": "AvIid1u2Z4zS"
      },
      "execution_count": null,
      "outputs": []
    },
    {
      "cell_type": "code",
      "source": [
        "# Replacing the missing_values / null_values with 0 in company & agent columns\n",
        "hotel_booking_df['company'].fillna(0, inplace=True)\n",
        "hotel_booking_df['agent'].fillna(0, inplace=True)\n",
        "\n",
        "# Replacing the missing_values in country column with 'Unknown'\n",
        "hotel_booking_df['country'].fillna('Unknown', inplace=True)"
      ],
      "metadata": {
        "id": "GiCyMHIUaMx6"
      },
      "execution_count": null,
      "outputs": []
    },
    {
      "cell_type": "code",
      "source": [
        "hotel_booking_df['children'].fillna(hotel_booking_df['children'].mean(), inplace = True)"
      ],
      "metadata": {
        "id": "D6sYtcoLacil"
      },
      "execution_count": null,
      "outputs": []
    },
    {
      "cell_type": "code",
      "source": [
        "#Checing the all null_values are removed or not\n",
        "hotel_booking_df.isnull().sum()"
      ],
      "metadata": {
        "id": "v2LTfivfas7-"
      },
      "execution_count": null,
      "outputs": []
    },
    {
      "cell_type": "code",
      "source": [
        "\n",
        "# checking the sum of adults, children and babies is zero or not\n",
        "hotel_booking_df[hotel_booking_df['adults']+hotel_booking_df['babies']+hotel_booking_df['children'] == 0].shape"
      ],
      "metadata": {
        "id": "IKTNDo_3a3B9"
      },
      "execution_count": null,
      "outputs": []
    },
    {
      "cell_type": "code",
      "source": [
        "hotel_booking_df.drop(hotel_booking_df[hotel_booking_df['adults']+hotel_booking_df['babies']+hotel_booking_df['children'] == 0].index, inplace = True)"
      ],
      "metadata": {
        "id": "X1LZaUCLbHed"
      },
      "execution_count": null,
      "outputs": []
    },
    {
      "cell_type": "markdown",
      "source": [
        "**Step 3 - Convert columns to appropriate datatypes**"
      ],
      "metadata": {
        "id": "YW7YlY_Wbr85"
      }
    },
    {
      "cell_type": "code",
      "source": [
        "\n",
        "#Converting datatype of columns 'children', 'company' and 'agent' from float to int.\n",
        "hotel_booking_df['children'] = hotel_booking_df['children'].astype(int)\n",
        "hotel_booking_df['company'] = hotel_booking_df['company'].astype(int)\n",
        "hotel_booking_df['agent'] = hotel_booking_df['agent'].astype(int)"
      ],
      "metadata": {
        "id": "6yYhHG_hbzIO"
      },
      "execution_count": null,
      "outputs": []
    },
    {
      "cell_type": "code",
      "source": [
        "\n",
        "# Convert date columns to datetime data type\n",
        "hotel_booking_df['reservation_status_date'] = pd.to_datetime(hotel_booking_df['reservation_status_date'])"
      ],
      "metadata": {
        "id": "8x030lG-cJxW"
      },
      "execution_count": null,
      "outputs": []
    },
    {
      "cell_type": "markdown",
      "source": [
        "**Step 4 - Adding important columns - total guests and total nights stayed**"
      ],
      "metadata": {
        "id": "70ttIxjbcaOy"
      }
    },
    {
      "cell_type": "code",
      "source": [
        "# Adding total_guests column = adults + children + babies\n",
        "hotel_booking_df['total_guests'] = hotel_booking_df['adults'] + hotel_booking_df['children'] + hotel_booking_df['babies']\n",
        "\n",
        "# Adding total_nights_stayed = stayed in weekend nights + stayed in week nights\n",
        "hotel_booking_df['total_nights_stayed'] = hotel_booking_df['stays_in_weekend_nights'] + hotel_booking_df['stays_in_week_nights']\n"
      ],
      "metadata": {
        "id": "Um2yVSYfcdru"
      },
      "execution_count": null,
      "outputs": []
    },
    {
      "cell_type": "markdown",
      "source": [
        "## ***4. Data Vizualization, Storytelling & Experimenting with charts : Understand the relationships between variables***"
      ],
      "metadata": {
        "id": "GF8Ens_Soomf"
      }
    },
    {
      "cell_type": "markdown",
      "source": [
        "#### Chart - 1"
      ],
      "metadata": {
        "id": "0wOQAZs5pc--"
      }
    },
    {
      "cell_type": "code",
      "source": [
        "# Chart - 1 visualization code\n",
        "#custom colors for the bars\n",
        "colors = ['red', 'black']\n",
        "\n",
        "# bar plot with custom colors\n",
        "plt.bar(hotel_booking_df['hotel'].value_counts().index,hotel_booking_df['hotel'].value_counts().values, color=colors)\n",
        "plt.xlabel('Hotel Type')\n",
        "plt.ylabel('Number of Bookings')\n",
        "plt.title('Distribution of Bookings by Hotel Type')\n",
        "plt.show()"
      ],
      "metadata": {
        "id": "7v_ESjsspbW7"
      },
      "execution_count": null,
      "outputs": []
    },
    {
      "cell_type": "markdown",
      "source": [
        "##### 3. Will the gained insights help creating a positive business impact?\n",
        "Are there any insights that lead to negative growth? Justify with specific reason."
      ],
      "metadata": {
        "id": "448CDAPjqfQr"
      }
    },
    {
      "cell_type": "markdown",
      "source": [
        "Answer Here"
      ],
      "metadata": {
        "id": "3cspy4FjqxJW"
      }
    },
    {
      "cell_type": "markdown",
      "source": [
        "#### Chart - 2"
      ],
      "metadata": {
        "id": "KSlN3yHqYklG"
      }
    },
    {
      "cell_type": "code",
      "source": [
        "# Chart - 2 visualization code\n",
        "# Revenue_Based_Analysis\n",
        "\n",
        "# Grouping by hotel and calculating average adr\n",
        "grouped_by_hotel = hotel_booking_df.groupby('hotel')\n",
        "avg_adr_by_hotel = grouped_by_hotel['adr'].mean().reset_index()\n",
        "\n",
        "# Creating the bar plot\n",
        "plt.figure(figsize=(6, 4))\n",
        "sns.barplot(x='hotel', y='adr', data=avg_adr_by_hotel, palette=['lightpink', 'lightgreen'])\n",
        "plt.xlabel('Hotel Type')\n",
        "plt.ylabel('Average Daily Rate (ADR)')\n",
        "plt.title('Average Daily Rate (ADR) by Hotel Type')\n",
        "plt.show()\n",
        "\n",
        "\n",
        "\n"
      ],
      "metadata": {
        "id": "R4YgtaqtYklH"
      },
      "execution_count": null,
      "outputs": []
    },
    {
      "cell_type": "markdown",
      "source": [
        "##### 1. Why did you pick the specific chart?"
      ],
      "metadata": {
        "id": "t6dVpIINYklI"
      }
    },
    {
      "cell_type": "markdown",
      "source": [
        "Answer Here."
      ],
      "metadata": {
        "id": "5aaW0BYyYklI"
      }
    },
    {
      "cell_type": "markdown",
      "source": [
        "##### 2. What is/are the insight(s) found from the chart?"
      ],
      "metadata": {
        "id": "ijmpgYnKYklI"
      }
    },
    {
      "cell_type": "markdown",
      "source": [
        "Answer Here"
      ],
      "metadata": {
        "id": "PSx9atu2YklI"
      }
    },
    {
      "cell_type": "markdown",
      "source": [
        "##### 3. Will the gained insights help creating a positive business impact?\n",
        "Are there any insights that lead to negative growth? Justify with specific reason."
      ],
      "metadata": {
        "id": "-JiQyfWJYklI"
      }
    },
    {
      "cell_type": "markdown",
      "source": [
        "Answer Here"
      ],
      "metadata": {
        "id": "BcBbebzrYklV"
      }
    },
    {
      "cell_type": "markdown",
      "source": [
        "#### Chart - 3"
      ],
      "metadata": {
        "id": "EM7whBJCYoAo"
      }
    },
    {
      "cell_type": "code",
      "source": [
        "# Chart - 3 visualization code\n",
        "# Chart - 3 visualization code\n",
        "\n",
        "# Distribution of hotel bookings based on the market segment.\n",
        "\n",
        "plt.figure(figsize=(12, 6))\n",
        "\n",
        "# Plot for City Hotel bookings by market segment\n",
        "plt.subplot(1, 2, 1)\n",
        "sns.countplot(x='market_segment', data=hotel_booking_df[hotel_booking_df['hotel'] == 'City Hotel'], palette='pastel')\n",
        "plt.xlabel('Market Segment')\n",
        "plt.ylabel('Number of Bookings')\n",
        "plt.title('City Hotel - Bookings by Market Segment')\n",
        "plt.xticks(rotation=45, ha='right')\n",
        "\n",
        "# Plot for Resort Hotel bookings by market segment\n",
        "plt.subplot(1, 2, 2)\n",
        "sns.countplot(x='market_segment', data=hotel_booking_df[hotel_booking_df['hotel'] == 'Resort Hotel'], palette='pastel')\n",
        "plt.xlabel('Market Segment')\n",
        "plt.ylabel('Number of Bookings')\n",
        "plt.title('Resort Hotel - Bookings by Market Segment')\n",
        "plt.xticks(rotation=45, ha='right')\n",
        "\n",
        "plt.tight_layout()\n",
        "plt.show()\n"
      ],
      "metadata": {
        "id": "t6GMdE67YoAp"
      },
      "execution_count": null,
      "outputs": []
    },
    {
      "cell_type": "markdown",
      "source": [
        "##### 1. Why did you pick the specific chart?"
      ],
      "metadata": {
        "id": "fge-S5ZAYoAp"
      }
    },
    {
      "cell_type": "markdown",
      "source": [
        "Answer Here."
      ],
      "metadata": {
        "id": "5dBItgRVYoAp"
      }
    },
    {
      "cell_type": "markdown",
      "source": [
        "##### 2. What is/are the insight(s) found from the chart?"
      ],
      "metadata": {
        "id": "85gYPyotYoAp"
      }
    },
    {
      "cell_type": "markdown",
      "source": [
        "Answer Here"
      ],
      "metadata": {
        "id": "4jstXR6OYoAp"
      }
    },
    {
      "cell_type": "markdown",
      "source": [
        "##### 3. Will the gained insights help creating a positive business impact?\n",
        "Are there any insights that lead to negative growth? Justify with specific reason."
      ],
      "metadata": {
        "id": "RoGjAbkUYoAp"
      }
    },
    {
      "cell_type": "markdown",
      "source": [
        "Answer Here"
      ],
      "metadata": {
        "id": "zfJ8IqMcYoAp"
      }
    },
    {
      "cell_type": "markdown",
      "source": [
        "#### Chart - 4"
      ],
      "metadata": {
        "id": "4Of9eVA-YrdM"
      }
    },
    {
      "cell_type": "code",
      "source": [
        "# Chart - 4 visualization code\n",
        "#distribution of lead time for both hotel types\n",
        "\n",
        "lead_time_data = hotel_booking_df[['hotel', 'lead_time']]\n",
        "\n",
        "# Plotting the distribution of lead time for each hotel type\n",
        "plt.figure(figsize=(10, 6))\n",
        "sns.boxplot(x='hotel', y='lead_time', data=lead_time_data, palette='Set1')\n",
        "plt.xlabel('Hotel Type')\n",
        "plt.ylabel('Lead Time (Days)')\n",
        "plt.title('Distribution of Lead Time for City and Resort Hotels')\n",
        "plt.show()"
      ],
      "metadata": {
        "id": "irlUoxc8YrdO"
      },
      "execution_count": null,
      "outputs": []
    },
    {
      "cell_type": "markdown",
      "source": [
        "##### 1. Why did you pick the specific chart?"
      ],
      "metadata": {
        "id": "iky9q4vBYrdO"
      }
    },
    {
      "cell_type": "markdown",
      "source": [
        "Answer Here."
      ],
      "metadata": {
        "id": "aJRCwT6DYrdO"
      }
    },
    {
      "cell_type": "markdown",
      "source": [
        "##### 2. What is/are the insight(s) found from the chart?"
      ],
      "metadata": {
        "id": "F6T5p64dYrdO"
      }
    },
    {
      "cell_type": "markdown",
      "source": [
        "Answer Here"
      ],
      "metadata": {
        "id": "Xx8WAJvtYrdO"
      }
    },
    {
      "cell_type": "markdown",
      "source": [
        "##### 3. Will the gained insights help creating a positive business impact?\n",
        "Are there any insights that lead to negative growth? Justify with specific reason."
      ],
      "metadata": {
        "id": "y-Ehk30pYrdP"
      }
    },
    {
      "cell_type": "markdown",
      "source": [
        "Answer Here"
      ],
      "metadata": {
        "id": "jLNxxz7MYrdP"
      }
    },
    {
      "cell_type": "markdown",
      "source": [
        "#### Chart - 5"
      ],
      "metadata": {
        "id": "bamQiAODYuh1"
      }
    },
    {
      "cell_type": "code",
      "source": [
        "# Chart - 5 visualization code\n",
        "# Calculate the percentage of canceled bookings for each hotel type\n",
        "total_bookings_by_hotel = hotel_booking_df.groupby('hotel')['is_canceled'].count()\n",
        "canceled_bookings_by_hotel = hotel_booking_df.groupby('hotel')['is_canceled'].sum()\n",
        "\n",
        "percentage_canceled = (canceled_bookings_by_hotel / total_bookings_by_hotel) * 100\n",
        "\n",
        "# Create a DataFrame to store the data\n",
        "cancellation_data = pd.DataFrame({'Hotel Type': percentage_canceled.index,'Percentage Canceled': percentage_canceled.values})\n",
        "\n",
        "# Plot the bar chart\n",
        "sns.barplot(x='Hotel Type',y='Percentage Canceled',data=cancellation_data,color='skyblue')\n",
        "plt.xlabel('Hotel Type')\n",
        "plt.ylabel('Percentage of Canceled Bookings')\n",
        "plt.title('Percentage of Canceled Bookings by Hotel Type')\n",
        "plt.show()\n",
        "\n",
        "cancellation_data\n",
        "\n"
      ],
      "metadata": {
        "id": "TIJwrbroYuh3"
      },
      "execution_count": null,
      "outputs": []
    },
    {
      "cell_type": "markdown",
      "source": [
        "##### 1. Why did you pick the specific chart?"
      ],
      "metadata": {
        "id": "QHF8YVU7Yuh3"
      }
    },
    {
      "cell_type": "markdown",
      "source": [
        "Answer Here."
      ],
      "metadata": {
        "id": "dcxuIMRPYuh3"
      }
    },
    {
      "cell_type": "markdown",
      "source": [
        "##### 2. What is/are the insight(s) found from the chart?"
      ],
      "metadata": {
        "id": "GwzvFGzlYuh3"
      }
    },
    {
      "cell_type": "markdown",
      "source": [
        "Answer Here"
      ],
      "metadata": {
        "id": "uyqkiB8YYuh3"
      }
    },
    {
      "cell_type": "markdown",
      "source": [
        "##### 3. Will the gained insights help creating a positive business impact?\n",
        "Are there any insights that lead to negative growth? Justify with specific reason."
      ],
      "metadata": {
        "id": "qYpmQ266Yuh3"
      }
    },
    {
      "cell_type": "markdown",
      "source": [
        "Answer Here"
      ],
      "metadata": {
        "id": "_WtzZ_hCYuh4"
      }
    },
    {
      "cell_type": "markdown",
      "source": [
        "#### Chart - 6"
      ],
      "metadata": {
        "id": "OH-pJp9IphqM"
      }
    },
    {
      "cell_type": "code",
      "source": [
        "# Chart - 6 visualization code\n",
        "# Calculate the percentage of each meal type in the dataset\n",
        "meal_counts = hotel_booking_df['meal'].value_counts(normalize=True) * 100\n",
        "\n",
        "# Create a pie chart\n",
        "plt.figure(figsize=(8, 8))\n",
        "plt.pie(meal_counts, labels=meal_counts.index, autopct='%1.1f%%',colors=['red', 'lightpink', 'lightcoral', 'black', 'orange'])\n",
        "plt.title('Distribution of Bookings by Meal Type')\n",
        "plt.show()\n",
        "\n"
      ],
      "metadata": {
        "id": "kuRf4wtuphqN"
      },
      "execution_count": null,
      "outputs": []
    },
    {
      "cell_type": "markdown",
      "source": [
        "##### 1. Why did you pick the specific chart?"
      ],
      "metadata": {
        "id": "bbFf2-_FphqN"
      }
    },
    {
      "cell_type": "markdown",
      "source": [
        "The majority of bookings (approximately 77.4%) have opted for the \"Bed and Breakfast\" (BB) meal plan, indicating that this meal type is the most popular choice among guests.\n",
        "\n",
        "The \"Half Board\" (HB) meal plan is the second most common option, accounting for around 12.1% of bookings.\n",
        "\n",
        "A smaller proportion of bookings (approximately 8.8%) have chosen the \"Self Catering\" (SC) meal plan.\n",
        "\n",
        "There is a small percentage (around 1%) of bookings with \"Undefined\" meal types, which might be due to missing or unspecified meal information.\n",
        "\n",
        "The \"Full Board\" (FB) meal plan has the lowest adoption rate, making up only 0.7% of the bookings."
      ],
      "metadata": {
        "id": "loh7H2nzphqN"
      }
    },
    {
      "cell_type": "markdown",
      "source": [
        "##### 2. What is/are the insight(s) found from the chart?"
      ],
      "metadata": {
        "id": "_ouA3fa0phqN"
      }
    },
    {
      "cell_type": "markdown",
      "source": [
        "Answer Here"
      ],
      "metadata": {
        "id": "VECbqPI7phqN"
      }
    },
    {
      "cell_type": "markdown",
      "source": [
        "##### 3. Will the gained insights help creating a positive business impact?\n",
        "Are there any insights that lead to negative growth? Justify with specific reason."
      ],
      "metadata": {
        "id": "Seke61FWphqN"
      }
    },
    {
      "cell_type": "markdown",
      "source": [
        "Answer Here"
      ],
      "metadata": {
        "id": "DW4_bGpfphqN"
      }
    },
    {
      "cell_type": "markdown",
      "source": [
        "#### Chart - 7"
      ],
      "metadata": {
        "id": "PIIx-8_IphqN"
      }
    },
    {
      "cell_type": "code",
      "source": [
        "# Chart - 7 visualization code\n",
        "# Distribution of bookings based on the \"reserved_room_type\"\n",
        "\n",
        "# Plotting the count plot\n",
        "plt.figure(figsize=(10, 6))\n",
        "sns.countplot(x='reserved_room_type', hue='hotel', data=hotel_booking_df, palette='pastel')\n",
        "plt.xlabel('Reserved Room Type')\n",
        "plt.ylabel('Number of Bookings')\n",
        "plt.title('Distribution of Bookings by Reserved Room Type')\n",
        "plt.legend(title='Hotel Type', loc='upper right', labels=['Resort Hotel', 'City Hotel'])\n",
        "\n",
        "plt.show()\n"
      ],
      "metadata": {
        "id": "lqAIGUfyphqO"
      },
      "execution_count": null,
      "outputs": []
    },
    {
      "cell_type": "markdown",
      "source": [
        "##### 1. Why did you pick the specific chart?"
      ],
      "metadata": {
        "id": "t27r6nlMphqO"
      }
    },
    {
      "cell_type": "markdown",
      "source": [
        "chose the count plot to visualize the distribution of bookings based on the \"reserved_room_type\" column because it effectively displays the number of bookings for each room type in a clear and easy-to-understand manner. This chart is especially useful when dealing with categorical data like room types and provides valuable insights into which room types are more popular among guests at both types of hotels.\n",
        "\n",
        "It helps stakeholders make data-driven decisions related to room management, pricing strategies, and promotional activities, which can lead to a positive business impact by optimizing revenue and customer satisfaction."
      ],
      "metadata": {
        "id": "iv6ro40sphqO"
      }
    },
    {
      "cell_type": "markdown",
      "source": [
        "##### 2. What is/are the insight(s) found from the chart?"
      ],
      "metadata": {
        "id": "r2jJGEOYphqO"
      }
    },
    {
      "cell_type": "markdown",
      "source": [
        "The majority of bookings in both City Hotel and Resort Hotel are of room type 'A', which indicates that this room type is the most preferred choice among customers.\n",
        "Room type 'D' is the second most common choice for bookings in City Hotel, whereas in Resort Hotel, it is room type 'D' followed by room type 'E'.\n",
        "Room types 'F', 'G', and 'E' also have a considerable number of bookings in both hotels, although they are less common compared to room type 'A' and 'D'.\n",
        "Some room types are exclusive to one hotel type. For example, room types 'H', 'L', and 'C' are only available in Resort Hotel, while room type 'B' is present in both hotels but has very few bookings."
      ],
      "metadata": {
        "id": "Po6ZPi4hphqO"
      }
    },
    {
      "cell_type": "markdown",
      "source": [
        "##### 3. Will the gained insights help creating a positive business impact?\n",
        "Are there any insights that lead to negative growth? Justify with specific reason."
      ],
      "metadata": {
        "id": "b0JNsNcRphqO"
      }
    },
    {
      "cell_type": "markdown",
      "source": [
        "Optimal Inventory Management: By knowing the most preferred room types, hotels can ensure that they have an adequate inventory of these rooms to meet the demand.\n",
        "\n",
        "Pricing Strategy: Knowing the popularity of room types can also help hotels set appropriate pricing. They can price the more popular room types slightly higher, maximizing revenue, while offering attractive deals for less popular room types to increase their demand.\n",
        "\n",
        "Marketing and Promotions: Hotels can use this information for targeted marketing and promotions.\n",
        "\n",
        "Room Allocation and Renovation: Based on the insights, hotels can allocate their resources and investments wisely. They can prioritize the maintenance and renovation of popular room types to ensure they are in top condition, attracting more guests."
      ],
      "metadata": {
        "id": "xvSq8iUTphqO"
      }
    },
    {
      "cell_type": "markdown",
      "source": [
        "#### Chart - 8"
      ],
      "metadata": {
        "id": "BZR9WyysphqO"
      }
    },
    {
      "cell_type": "code",
      "source": [
        "# Chart - 8 visualization code\n",
        "# Distribution of the number of stays in weekend nights and stays in week nights separately for both city hotels and resort hotels using Box Plots\n",
        "\n",
        "# Filter data for city hotels and resort hotels\n",
        "city_hotel_data = hotel_booking_df[hotel_booking_df['hotel'] == 'City Hotel']\n",
        "resort_hotel_data = hotel_booking_df[hotel_booking_df['hotel'] == 'Resort Hotel']\n",
        "\n",
        "# Create box plot for stays in weekend nights\n",
        "plt.figure(figsize=(8, 6))\n",
        "sns.boxplot(x='hotel', y='stays_in_weekend_nights', data=hotel_booking_df, palette='Set3')\n",
        "plt.xlabel('Hotel Type')\n",
        "plt.ylabel('Stays in Weekend Nights')\n",
        "plt.title('Distribution of Stays in Weekend Nights for City and Resort Hotels')\n",
        "plt.show()\n",
        "\n",
        "# Create box plot for stays in week nights\n",
        "plt.figure(figsize=(8, 6))\n",
        "sns.boxplot(x='hotel', y='stays_in_week_nights', data=hotel_booking_df, palette='Set1')\n",
        "plt.xlabel('Hotel Type')\n",
        "plt.ylabel('Stays in Week Nights')\n",
        "plt.title('Distribution of Stays in Week Nights for City and Resort Hotels')\n",
        "plt.show()"
      ],
      "metadata": {
        "id": "TdPTWpAVphqO"
      },
      "execution_count": null,
      "outputs": []
    },
    {
      "cell_type": "markdown",
      "source": [
        "##### 1. Why did you pick the specific chart?"
      ],
      "metadata": {
        "id": "jj7wYXLtphqO"
      }
    },
    {
      "cell_type": "markdown",
      "source": [
        "I picked the box plot to visualize the distribution of the number of stays in weekend nights and stays in week nights separately for both city hotels and resort hotels because it is an effective way to compare the distribution of a numerical variable across different hotel type.\n",
        "\n",
        "we can easily identify differences in the distribution of stays in weekend nights and week nights between city hotels and resort hotels. It helps us understand if there are any significant variations in the number of stays between the two hotel types, and it also highlights any potential outliers that might need further investigation."
      ],
      "metadata": {
        "id": "Ob8u6rCTphqO"
      }
    },
    {
      "cell_type": "markdown",
      "source": [
        "##### 2. What is/are the insight(s) found from the chart?"
      ],
      "metadata": {
        "id": "eZrbJ2SmphqO"
      }
    },
    {
      "cell_type": "markdown",
      "source": [
        "stays in Weekend Nights:\n",
        "\n",
        "Both city hotels and resort hotels have a similar range of stays in weekend nights, with the box extending below 2.5. This indicates that most of the bookings have stays of 2 nights or less during the weekends.\n",
        "However, the number of outliers in resort hotels is significantly higher than in city hotels, with some reservations having stays of more than 17.5 nights. This suggests that there are some extreme cases of longer weekend stays in resort hotels.\n",
        "The presence of such outliers might indicate extended vacation stays or special events in resort hotels, which could be an opportunity for targeted marketing and promotions to attract customers seeking longer weekend getaways.\n",
        "Stays in Week Nights:\n",
        "\n",
        "The median and interquartile range of stays in week nights are similar for both city hotels and resort hotels, with the box extending below 5. This suggests that the majority of bookings have stays of 5 nights or less during weekdays.\n",
        "The city hotel's box is slightly lower than the resort hotel's box, indicating that the median stay duration for week nights is slightly lower in city hotels.\n",
        "The presence of higher outliers in resort hotels (up to 50 nights) compared to city hotels (up to 30 nights) suggests that resort hotels might attract guests who stay for longer durations during weekdays."
      ],
      "metadata": {
        "id": "mZtgC_hjphqO"
      }
    },
    {
      "cell_type": "markdown",
      "source": [
        "#### Chart - 9"
      ],
      "metadata": {
        "id": "YJ55k-q6phqO"
      }
    },
    {
      "cell_type": "code",
      "source": [
        "# Chart - 9 visualization code\n",
        "# Top 10 countries with the Most Guests\n",
        "\n",
        "# Grouping data by country and calculating total guests from each country\n",
        "guests_by_country = hotel_booking_df.groupby('country')['total_guests'].sum().reset_index()\n",
        "\n",
        "# Sorting data in descending order of total guests\n",
        "guests_by_country = guests_by_country.sort_values(by='total_guests', ascending=False)\n",
        "\n",
        "# Plotting the bar chart\n",
        "plt.figure(figsize=(12, 6))\n",
        "sns.barplot(x='country', y='total_guests', data=guests_by_country.head(10))\n",
        "plt.xlabel('Country')\n",
        "plt.ylabel('Total Guests')\n",
        "plt.title('Top 10 Countries with the Most Guests')\n",
        "plt.xticks(rotation=45)\n",
        "plt.show()\n",
        "\n"
      ],
      "metadata": {
        "id": "B2aS4O1ophqO"
      },
      "execution_count": null,
      "outputs": []
    },
    {
      "cell_type": "markdown",
      "source": [
        "##### 1. Why did you pick the specific chart?"
      ],
      "metadata": {
        "id": "gCFgpxoyphqP"
      }
    },
    {
      "cell_type": "markdown",
      "source": [
        "I picked the bar chart to visualize the number of guests from each country because it is an effective way to compare the total guests from different countries at a glance. The bar chart allows us to easily identify the countries with the highest number of guests, as the length of the bars directly represents the total guest count. Additionally, by showing only the top 10 countries,"
      ],
      "metadata": {
        "id": "TVxDimi2phqP"
      }
    },
    {
      "cell_type": "markdown",
      "source": [
        "##### 2. What is/are the insight(s) found from the chart?"
      ],
      "metadata": {
        "id": "OVtJsKN_phqQ"
      }
    },
    {
      "cell_type": "markdown",
      "source": [
        "Portugal (PRT) has the highest number of guests with more than 80,000 bookings, indicating its popularity as a tourist destination.\n",
        "\n",
        "United Kingdom (GBR) and France (FRA) have around 20,000+ bookings, making them significant contributors to the total number of guests.\n",
        "\n",
        "Spain (ESP) has below 20,000 bookings, suggesting that it attracts a relatively lower number of guests compared to Portugal, the UK, and France.\n",
        "\n",
        "Germany (DEU) has even fewer bookings than Spain, indicating a lower demand for accommodations from German guests.\n",
        "\n",
        "Italy (ITA) has fewer bookings than Germany, indicating that it may not be as popular among hotel guests.\n",
        "\n",
        "Ireland (IRL) has even fewer bookings than Italy, suggesting a lower demand from Irish guests.\n",
        "\n",
        "Belgium (BEL), Brazil (BRA), and the USA have the lowest number of bookings among the top 10 countries, indicating relatively lower demand from guests in these countries."
      ],
      "metadata": {
        "id": "ngGi97qjphqQ"
      }
    },
    {
      "cell_type": "markdown",
      "source": [
        "##### 3. Will the gained insights help creating a positive business impact?\n",
        "Are there any insights that lead to negative growth? Justify with specific reason."
      ],
      "metadata": {
        "id": "lssrdh5qphqQ"
      }
    },
    {
      "cell_type": "markdown",
      "source": [
        "Answer Here"
      ],
      "metadata": {
        "id": "tBpY5ekJphqQ"
      }
    },
    {
      "cell_type": "markdown",
      "source": [
        "#### Chart - 10"
      ],
      "metadata": {
        "id": "U2RJ9gkRphqQ"
      }
    },
    {
      "cell_type": "code",
      "source": [
        "# Chart - 10 visualization code\n",
        "#  line chart to analyze the data monthly\n",
        "\n",
        "# Filter data for city hotel\n",
        "month_order = ['January', 'February', 'March', 'April', 'May', 'June', 'July', 'August', 'September', 'October', 'November', 'December']\n",
        "\n",
        "# Filter data for city hotel\n",
        "city_hotel_data = hotel_booking_df[hotel_booking_df['hotel'] == 'City Hotel']\n",
        "# Group data by 'arrival_date_month' and calculate total bookings for each month\n",
        "city_monthly_bookings = city_hotel_data.groupby('arrival_date_month')['hotel'].count().reset_index()\n",
        "city_monthly_bookings = city_monthly_bookings.rename(columns={'hotel': 'total_bookings'})\n",
        "# Sort the data by month\n",
        "city_monthly_bookings['arrival_date_month'] = pd.Categorical(city_monthly_bookings['arrival_date_month'], categories= month_order, ordered=True)\n",
        "city_monthly_bookings = city_monthly_bookings.sort_values('arrival_date_month')\n",
        "\n",
        "# Filter data for resort hotel\n",
        "resort_hotel_data = hotel_booking_df[hotel_booking_df['hotel'] == 'Resort Hotel']\n",
        "# Group data by 'arrival_date_month' and calculate total bookings for each month\n",
        "resort_monthly_bookings = resort_hotel_data.groupby('arrival_date_month')['hotel'].count().reset_index()\n",
        "resort_monthly_bookings = resort_monthly_bookings.rename(columns={'hotel': 'total_bookings'})\n",
        "# Sort the data by month\n",
        "resort_monthly_bookings['arrival_date_month'] = pd.Categorical(resort_monthly_bookings['arrival_date_month'], categories= month_order, ordered=True)\n",
        "resort_monthly_bookings = resort_monthly_bookings.sort_values('arrival_date_month')\n",
        "\n",
        "# Create the line chart for city hotel\n",
        "plt.figure(figsize=(10, 6))\n",
        "sns.lineplot(x='arrival_date_month', y='total_bookings', data=city_monthly_bookings, marker='o', label='City Hotel')\n",
        "plt.xlabel('Month')\n",
        "plt.ylabel('Total Bookings')\n",
        "plt.title('Monthly Distribution of Total Bookings for City Hotel')\n",
        "plt.xticks(rotation=45)\n",
        "plt.grid(axis='y', linestyle='--', alpha=0.7)\n",
        "\n",
        "# Create the line chart for resort hotel\n",
        "sns.lineplot(x='arrival_date_month', y='total_bookings', data=resort_monthly_bookings, marker='o', label='Resort Hotel')\n",
        "plt.xlabel('Month')\n",
        "plt.ylabel('Total Bookings')\n",
        "plt.title('Monthly Distribution of Total Bookings for Resort Hotel')\n",
        "plt.xticks(rotation=45)\n",
        "plt.grid(axis='y', linestyle='--', alpha=0.7)\n",
        "\n",
        "plt.legend()\n",
        "plt.show()\n",
        "\n",
        "\n"
      ],
      "metadata": {
        "id": "GM7a4YP4phqQ"
      },
      "execution_count": null,
      "outputs": []
    },
    {
      "cell_type": "markdown",
      "source": [
        "##### 1. Why did you pick the specific chart?"
      ],
      "metadata": {
        "id": "1M8mcRywphqQ"
      }
    },
    {
      "cell_type": "markdown",
      "source": [
        "I chose the line chart to analyze the monthly distribution of total bookings for both hotels separately because it effectively shows the trend of bookings over time. Line charts are particularly useful when we want to visualize how a variable changes with respect to another variable, in this case, the total bookings over different months.\n",
        "\n",
        "The line chart enables us to see if there are any specific months when bookings are higher or lower for each hotel type. It can also help us identify any potential seasonal trends or fluctuations in booking behavior, which can be valuable for making business decisions and optimizing resources accordingly.Answer Here."
      ],
      "metadata": {
        "id": "8agQvks0phqQ"
      }
    },
    {
      "cell_type": "markdown",
      "source": [
        "##### 2. What is/are the insight(s) found from the chart?"
      ],
      "metadata": {
        "id": "tgIPom80phqQ"
      }
    },
    {
      "cell_type": "markdown",
      "source": [
        "Seasonal Variation: Both hotels experience fluctuations in the number of guests throughout the year. The highest number of guests are observed in August, which might indicate the peak vacation season. Conversely, January sees the lowest number of guests, likely due to the off-peak winter season.\n",
        "\n",
        "Differences Between Hotels: The city hotel consistently attracts more guests than the resort hotel in all months. This difference in guest numbers could be attributed to factors such as location, amenities, and target market.\n",
        "\n",
        "Popular Months: April, May, and June also show a good number of guests in both hotels, suggesting that these months are popular for tourism and bookings.Answer Here"
      ],
      "metadata": {
        "id": "Qp13pnNzphqQ"
      }
    },
    {
      "cell_type": "markdown",
      "source": [
        "##### 3. Will the gained insights help creating a positive business impact?\n",
        "Are there any insights that lead to negative growth? Justify with specific reason."
      ],
      "metadata": {
        "id": "JMzcOPDDphqR"
      }
    },
    {
      "cell_type": "markdown",
      "source": [
        "Are there any insights that lead to negative growth? Justify with specific reason.\n",
        "\n",
        "Business Impact: The gained insights can have a positive business impact for both hotels. By understanding the seasonal patterns, hotels can optimize their marketing strategies and pricing models to attract more guests during peak months and offer special promotions during slower months to drive bookings.\n",
        "\n",
        "Negative Growth: While the analysis doesn't explicitly reveal negative growth, the lower number of guests in certain months for the resort hotel may indicate a need for targeted marketing efforts or improvements in offerings to attract more guests during those periods.\n",
        "\n",
        "In conclusion, the insights from the line chart analysis can help hotels make data-driven decisions to enhance their business strategies, improve guest experiences, and maximize revenue throughout the year. By leveraging this information, hotels can better align their operations with seasonal demands and work towards sustainable growth.Answer Here"
      ],
      "metadata": {
        "id": "R4Ka1PC2phqR"
      }
    },
    {
      "cell_type": "markdown",
      "source": [
        "#### Chart - 11"
      ],
      "metadata": {
        "id": "x-EpHcCOp1ci"
      }
    },
    {
      "cell_type": "code",
      "source": [
        "# Chart - 11 visualization code\n",
        "# Group data by agent and calculate the number of bookings made by each agent\n",
        "agent_bookings = hotel_booking_df['agent'].value_counts().reset_index()\n",
        "agent_bookings.columns = ['agent', 'num_bookings']\n",
        "\n",
        "# Sort agents by the number of bookings in descending order\n",
        "agent_bookings = agent_bookings.sort_values(by='num_bookings', ascending=False)\n",
        "\n",
        "# Select the top 10 agents with the highest number of bookings\n",
        "top_10_agents = agent_bookings.head(10)\n",
        "\n",
        "# Plot the bar chart\n",
        "plt.figure(figsize=(12, 6))\n",
        "sns.barplot(x='agent', y='num_bookings', data=top_10_agents, palette='viridis')\n",
        "plt.xlabel('Agent')\n",
        "plt.ylabel('Number of Bookings')\n",
        "plt.title('Top 10 Agents with Highest Number of Bookings')\n",
        "\n",
        "plt.show()"
      ],
      "metadata": {
        "id": "mAQTIvtqp1cj"
      },
      "execution_count": null,
      "outputs": []
    },
    {
      "cell_type": "markdown",
      "source": [
        "##### 1. Why did you pick the specific chart?"
      ],
      "metadata": {
        "id": "X_VqEhTip1ck"
      }
    },
    {
      "cell_type": "markdown",
      "source": [
        "I chose the bar chart to visualize the top 10 agents with the highest number of bookings because it effectively displays the comparison between different agents in terms of their booking counts. The bar chart is suitable for this scenario as it allows us to easily identify the agents with the highest booking activity and make quick comparisons between them. The bars provide a clear representation of the number of bookings for each agent, making it easy to spot the top performers.Answer Here."
      ],
      "metadata": {
        "id": "-vsMzt_np1ck"
      }
    },
    {
      "cell_type": "markdown",
      "source": [
        "##### 2. What is/are the insight(s) found from the chart?"
      ],
      "metadata": {
        "id": "8zGJKyg5p1ck"
      }
    },
    {
      "cell_type": "markdown",
      "source": [
        "These all are the TOp 10 agents in the Hotel Industry to book highest numbers of bookings. Also in the top 10 agents, We identified that\n",
        "\n",
        "Agent ID 9 has the highest number of bookings, exceeding 25,000 bookings. This agent is the top performer and contributes significantly to the hotel's business.\n",
        "\n",
        "Agents with IDs 240 and 0 have bookings above 10,000, making them high-performing agents who bring in a substantial number of customers.\n",
        "\n",
        "Agents with IDs 1, 7, 8, 14, 28, 241, and 250 have bookings ranging below 5,000. These agents are performing well but have relatively lower booking counts compared to the top agents.Answer Here"
      ],
      "metadata": {
        "id": "ZYdMsrqVp1ck"
      }
    },
    {
      "cell_type": "markdown",
      "source": [
        "##### 3. Will the gained insights help creating a positive business impact?\n",
        "Are there any insights that lead to negative growth? Justify with specific reason."
      ],
      "metadata": {
        "id": "PVzmfK_Ep1ck"
      }
    },
    {
      "cell_type": "markdown",
      "source": [
        "The insights gained from this chart can help create a positive business impact. Identifying the top-performing agents (ID 9, 240, and 0) allows the hotel management to focus on strengthening their partnership and providing them with better incentives and support. Building strong relationships with these top agents can lead to increased bookings and revenue for the hotel.Answer Here"
      ],
      "metadata": {
        "id": "druuKYZpp1ck"
      }
    },
    {
      "cell_type": "markdown",
      "source": [
        "#### Chart - 12"
      ],
      "metadata": {
        "id": "n3dbpmDWp1ck"
      }
    },
    {
      "cell_type": "code",
      "source": [
        "# Chart - 12 visualization code\n",
        "# total revenue for both types of hotel\n",
        "\n",
        "# Calculate total revenue by multiplying 'adr' and total nights stayed for each booking\n",
        "hotel_booking_df['total_revenue'] = hotel_booking_df['adr'] * (hotel_booking_df['stays_in_weekend_nights'] + hotel_booking_df ['stays_in_week_nights'])\n",
        "\n",
        "# Group the data by 'hotel' and calculate the total revenue for each hotel\n",
        "revenue_by_hotel = hotel_booking_df.groupby('hotel')['total_revenue'].sum().reset_index()\n",
        "\n",
        "# Create a bar chart to compare total revenue for each hotel\n",
        "plt.figure(figsize=(8, 6))\n",
        "sns.barplot(x='hotel', y='total_revenue', data=revenue_by_hotel)\n",
        "plt.title('Total Revenue by Hotel')\n",
        "plt.xlabel('Hotel')\n",
        "plt.ylabel('Total Revenue')\n",
        "plt.show()"
      ],
      "metadata": {
        "id": "JttwaqG5j7md"
      },
      "execution_count": null,
      "outputs": []
    },
    {
      "cell_type": "markdown",
      "source": [
        "##### 1. Why did you pick the specific chart?"
      ],
      "metadata": {
        "id": "ylSl6qgtp1ck"
      }
    },
    {
      "cell_type": "markdown",
      "source": [
        "I picked the bar chart to visualize the total revenue by hotel type because it effectively compares the revenue generated by each type of hotel in a clear and straightforward manner. The bar chart allows for easy comparison between the two categories (City Hotel and Resort Hotel) and helps identify any significant differences in revenueAnswer Here."
      ],
      "metadata": {
        "id": "m2xqNkiQp1ck"
      }
    },
    {
      "cell_type": "markdown",
      "source": [
        "##### 2. What is/are the insight(s) found from the chart?"
      ],
      "metadata": {
        "id": "ZWILFDl5p1ck"
      }
    },
    {
      "cell_type": "markdown",
      "source": [
        "From the bar chart, we can observe that the revenue generated by the City Hotel is higher than 1.75 Million and the revenue generated by the Resort Hotel is higher than 1.50 Million. This suggests that both types of hotels are generating significant revenue.Answer Here"
      ],
      "metadata": {
        "id": "x-lUsV2mp1ck"
      }
    },
    {
      "cell_type": "markdown",
      "source": [
        "##### 3. Will the gained insights help creating a positive business impact?\n",
        "Are there any insights that lead to negative growth? Justify with specific reason."
      ],
      "metadata": {
        "id": "M7G43BXep1ck"
      }
    },
    {
      "cell_type": "markdown",
      "source": [
        "Positive Business Impact: The insight that both types of hotels are generating substantial revenue indicates a positive business impact. It suggests that there is a strong demand for accommodations in both city and resort locations, leading to successful revenue generation for the hotels.\n",
        "\n",
        "Potential for Growth: The fact that both hotels are surpassing the 1.50 million revenue mark implies that there is potential for further growth in the future. The hotels can focus on strategic marketing, enhancing guest experiences, and optimizing their operations to attract more customers and increase revenue.\n",
        "\n",
        "Competitive Advantage: City hotels, in particular, have a slight edge over resort hotels, as their revenue is higher than 1.75 million. This indicates that city hotels may have a competitive advantage in terms of attracting business travelers, events, and conferences, which contribute to their higher revenue.Answer Here"
      ],
      "metadata": {
        "id": "5wwDJXsLp1cl"
      }
    },
    {
      "cell_type": "markdown",
      "source": [
        "#### Chart - 13"
      ],
      "metadata": {
        "id": "Ag9LCva-p1cl"
      }
    },
    {
      "cell_type": "code",
      "source": [
        "# Chart - 13 visualization code\n",
        "# Anlayze the revenue based on the distribution_channel\n",
        "\n",
        "# Group the data by hotel and distribution_channel and calculate total revenue for each group\n",
        "revenue_by_channel = hotel_booking_df.groupby(['hotel', 'distribution_channel'])['total_revenue'].sum().reset_index()\n",
        "\n",
        "# Create subplots for city and resort hotels\n",
        "fig, axes = plt.subplots(nrows=1, ncols=2, figsize=(12, 6))\n",
        "\n",
        "# Plot for city hotel\n",
        "sns.barplot(x='distribution_channel', y='total_revenue', data=revenue_by_channel[revenue_by_channel['hotel'] == 'City Hotel'], ax=axes[0])\n",
        "axes[0].set_xlabel('Distribution Channel')\n",
        "axes[0].set_ylabel('Total Revenue')\n",
        "axes[0].set_title('City Hotel')\n",
        "axes[0].tick_params(axis='x', rotation=45)\n",
        "\n",
        "# Plot for resort hotel\n",
        "sns.barplot(x='distribution_channel', y='total_revenue', data=revenue_by_channel[revenue_by_channel['hotel'] == 'Resort Hotel'], ax=axes[1])\n",
        "axes[1].set_xlabel('Distribution Channel')\n",
        "axes[1].set_ylabel('Total Revenue')\n",
        "axes[1].set_title('Resort Hotel')\n",
        "axes[1].tick_params(axis='x', rotation=45)\n",
        "\n",
        "plt.tight_layout()\n",
        "plt.show()\n",
        ""
      ],
      "metadata": {
        "id": "EUfxeq9-p1cl"
      },
      "execution_count": null,
      "outputs": []
    },
    {
      "cell_type": "markdown",
      "source": [
        "##### 1. Why did you pick the specific chart?"
      ],
      "metadata": {
        "id": "E6MkPsBcp1cl"
      }
    },
    {
      "cell_type": "markdown",
      "source": [
        "I picked the specific chart of subplots with bar charts for revenue analysis based on the distribution channel to directly compare the revenue generated by different distribution channels for both city and resort hotels side by side. This visual arrangement makes it easy to identify any disparities or patterns in revenue distribution between the two hotel types.It helps hotel managers gain valuable insights into revenue trends, identify potential areas for improvement, and make informed business decisions to optimize their revenue strategies.Answer Here."
      ],
      "metadata": {
        "id": "V22bRsFWp1cl"
      }
    },
    {
      "cell_type": "markdown",
      "source": [
        "##### 2. What is/are the insight(s) found from the chart?"
      ],
      "metadata": {
        "id": "2cELzS2fp1cl"
      }
    },
    {
      "cell_type": "markdown",
      "source": [
        "Travel Agency/Tour Operator (TA/TO): Both City Hotel and Resort Hotel have a higher revenue share from the TA/TO distribution channel, with City Hotel having a slightly higher percentage (1.6) compared to Resort Hotel (1.2). This indicates that travel agencies and tour operators play a significant role in driving bookings and revenue for both types of hotels.\n",
        "\n",
        "Direct Bookings: Resort Hotel has a higher revenue share from direct bookings (below 0.4) compared to City Hotel ( 0.2). This suggests that Resort Hotel attracts a larger portion of customers who book directly with the hotel, which can lead to higher profit margins due to the absence of commission fees for third-party agents.\n",
        "\n",
        "Corporate Bookings: Both City Hotel and Resort Hotel have relatively low revenue shares from corporate bookings (below 0.2). This insight indicates that corporate travelers might not be a significant revenue source for these hotels, and they may need to explore strategies to attract more corporate bookings to increase revenue from this segment.\n",
        "\n",
        "Global Distribution Systems (GDS): City Hotel has a very low revenue share from GDS, suggesting that this distribution channel is not a significant source of bookings and revenue for the hotel. Resort Hotel's GDS revenue share is not mentioned explicitly, but it could be inferred as being relatively low based on the information provided.Answer Here"
      ],
      "metadata": {
        "id": "ozQPc2_Ip1cl"
      }
    },
    {
      "cell_type": "markdown",
      "source": [
        "##### 3. Will the gained insights help creating a positive business impact?\n",
        "Are there any insights that lead to negative growth? Justify with specific reason."
      ],
      "metadata": {
        "id": "3MPXvC8up1cl"
      }
    },
    {
      "cell_type": "markdown",
      "source": [
        "\n",
        "Positive Business Impact:\n",
        "\n",
        "Strategic Partnerships: Hotels can focus on building strong relationships with travel agencies and tour operators to enhance their revenue from this lucrative distribution channel further.\n",
        "\n",
        "Direct Booking Promotions: Both Hotel's higher revenue from direct bookings indicates an opportunity to implement targeted marketing campaigns and loyalty programs to attract more direct bookings and potentially increase revenue.\n",
        "\n",
        "Corporate Marketing Initiatives: Both City Hotel and Resort Hotel can invest in targeted marketing efforts to attract more corporate bookings, which could lead to increased revenue from business travelers.\n",
        "\n",
        "Negative Growth Insights: Based on the insights provided, there are no explicit indications of negative growth for any specific distribution channel. However, the low revenue share from certain channels, such as GDS and corporate bookings, might be considered areas for improvement. By addressing these challenges and optimizing revenue strategies, hotels can work towards reducing any potential negative impact and fostering overall growth.\n",
        "\n",
        "Overall, the gained insights can be valuable for hotel management to make data-driven decisions, optimize revenue strategies, and capitalize on the most profitable distribution channels to achieve positive business impact."
      ],
      "metadata": {
        "id": "GL8l1tdLp1cl"
      }
    },
    {
      "cell_type": "markdown",
      "source": [
        "#### Chart - 14 - Correlation Heatmap"
      ],
      "metadata": {
        "id": "NC_X3p0fY2L0"
      }
    },
    {
      "cell_type": "code",
      "source": [
        "# Correlation Heatmap visualization code\n",
        "\n",
        "\n",
        "# Selecting numerical columns for correlation analysis\n",
        "numerical_columns = hotel_booking_df.select_dtypes(include=[np.number])\n",
        "\n",
        "# Calculating the correlation matrix\n",
        "correlation_matrix = numerical_columns.corr()\n",
        "\n",
        "# Create a heatmap\n",
        "plt.figure(figsize=(12, 10))\n",
        "sns.heatmap(correlation_matrix, annot=True, cmap='coolwarm', fmt='.2f', linewidths=0.5)\n",
        "plt.title(\"Correlation Heatmap of Numerical Columns\")\n",
        "plt.show()"
      ],
      "metadata": {
        "id": "xyC9zolEZNRQ"
      },
      "execution_count": null,
      "outputs": []
    },
    {
      "cell_type": "markdown",
      "source": [
        "##### 1. Why did you pick the specific chart?"
      ],
      "metadata": {
        "id": "UV0SzAkaZNRQ"
      }
    },
    {
      "cell_type": "markdown",
      "source": [
        "I picked the correlation heatmap chart because it allows us to visually analyze the relationships between numerical variables in the dataset. The heatmap is an effective way to display the correlation matrix, which helps us understand the strength and direction of the correlations between different variables.\n",
        "\n",
        "The correlation heatmap is particularly useful in an EDA (Exploratory Data Analysis) project because it provides a quick overview of how variables are related to each other. By looking at the heatmap, we can identify patterns and dependencies between features, which can help us make informed decisions during data analysis and modeling.\n",
        "\n",
        "the correlation heatmap is a powerful tool for gaining insights into the dataset's internal relationships and can aid in identifying key features that influence various aspects of the hotel booking analysis.Answer Here."
      ],
      "metadata": {
        "id": "DVPuT8LYZNRQ"
      }
    },
    {
      "cell_type": "markdown",
      "source": [
        "##### 2. What is/are the insight(s) found from the chart?"
      ],
      "metadata": {
        "id": "YPEH6qLeZNRQ"
      }
    },
    {
      "cell_type": "markdown",
      "source": [
        "There is a positive correlation between \"lead_time\" and \"is_canceled\". This indicates that longer lead times might be associated with a higher likelihood of cancellations.\n",
        "\n",
        "This chart also indicates that the there are high number of stay_week_nights\n",
        "\n",
        "The number of adults in the stay_guests are more as compare to the other guests.\n",
        "\n",
        "There is a negative correlation between the number of \"total_of_special_requests\" and \"is_canceled\". This implies that guests who make more special requests are less likely to cancel their bookings.\n",
        "\n",
        "There is a weak positive correlation between \"arrival_date_year\" and \"lead_time\". This indicates that lead times for bookings might have slightly increased over the years.\n",
        "\n",
        "These insights help us understand the interplay between various factors in hotel bookings and can guide further analysis and decision-making in the EDA project."
      ],
      "metadata": {
        "id": "bfSqtnDqZNRR"
      }
    },
    {
      "cell_type": "markdown",
      "source": [
        "#### Chart - 15 - Pair Plot"
      ],
      "metadata": {
        "id": "q29F0dvdveiT"
      }
    },
    {
      "cell_type": "code",
      "source": [
        "# Pair Plot visualization code\n",
        "\n",
        "\n",
        "import seaborn as sns\n",
        "import matplotlib.pyplot as plt\n",
        "\n",
        "# Assuming you have a DataFrame called df_subset with the desired columns\n",
        "# Replace 'data_columns' with the columns you want to analyze\n",
        "data_columns = ['lead_time', 'stays_in_weekend_nights', 'stays_in_week_nights', 'total_guests', 'adr', 'total_of_special_requests']\n",
        "\n",
        "# Create the pair plot\n",
        "sns.pairplot(hotel_booking_df[data_columns])\n",
        "plt.title('Pair Plot')\n",
        "plt.show()\n"
      ],
      "metadata": {
        "id": "o58-TEIhveiU"
      },
      "execution_count": null,
      "outputs": []
    },
    {
      "cell_type": "markdown",
      "source": [
        "##### 1. Why did you pick the specific chart?"
      ],
      "metadata": {
        "id": "EXh0U9oCveiU"
      }
    },
    {
      "cell_type": "markdown",
      "source": [
        "I chose the Pair Plot chart because it allows for the visualization of the pairwise relationships between multiple variables in the dataset. The Pair Plot is especially useful when dealing with a relatively small number of numerical variables, as it helps us quickly understand how these variables are distributed and whether there are any obvious patterns or correlations.\n",
        "\n",
        "the Pair Plot is a powerful tool for gaining a comprehensive understanding of the relationships between numerical variables in the dataset. It aids in identifying patterns, correlations, and potential issues, which can inform further analysis and decision-making in the hotel booking analysis project.Answer Here."
      ],
      "metadata": {
        "id": "eMmPjTByveiU"
      }
    },
    {
      "cell_type": "markdown",
      "source": [
        "##### 2. What is/are the insight(s) found from the chart?"
      ],
      "metadata": {
        "id": "22aHeOlLveiV"
      }
    },
    {
      "cell_type": "markdown",
      "source": [
        "The lead time for most of the customers is below 300 and mostly for those who stays_in_week_nights\n",
        "\n",
        "adr in all segments are below 1000\n",
        "\n",
        "total_guests in each group ( including all types of guest - adults, child , babies) are less than 10\n",
        "\n",
        "no. of guests stays in week nights is higher than no, of guest stays in weekend nightsAnswer Here"
      ],
      "metadata": {
        "id": "uPQ8RGwHveiV"
      }
    },
    {
      "cell_type": "markdown",
      "source": [
        "## **5. Solution to Business Objective**"
      ],
      "metadata": {
        "id": "JcMwzZxoAimU"
      }
    },
    {
      "cell_type": "markdown",
      "source": [
        "#### What do you suggest the client to achieve Business Objective ?\n",
        "Explain Briefly."
      ],
      "metadata": {
        "id": "8G2x9gOozGDZ"
      }
    },
    {
      "cell_type": "markdown",
      "source": [
        "Strategic Room Allocation: Since certain room types are more popular, the client can strategically allocate resources and promote the preferred room types to optimize bookings and revenue.\n",
        "\n",
        "Manage Lead Time: The insights on lead time and cancellations can help the client manage bookings more effectively. Special offers or incentives can be provided to guests who book in advance to reduce cancellations.\n",
        "\n",
        "Meal Plan Customization: Understanding the most popular meal plan (Bed and Breakfast) can help the client tailor their meal offerings to align with customer preferences. Offering attractive meal packages can also enhance guest satisfaction and increase bookings.\n",
        "\n",
        "Customer Segmentation: The insights on customer preferences can help the client segment their market and create targeted marketing campaigns for different customer groups. For example, targeting business travelers with specific packages or promotions can increase bookings from this segment.\n",
        "\n",
        "Focus on Peak Months: The client can plan marketing and promotional activities during peak months like April, May, and June to attract more guests during the popular vacation season.\n",
        "\n",
        "Based on the insights gained from the EDA project, here are some suggestions for the client to achieve their business objectives:\n",
        "\n",
        "Promote City Hotel's Popularity: Since City Hotels have significantly higher bookings and revenue compared to Resort Hotels, the client can capitalize on this popularity and invest more in marketing and promotions to further attract guests. Targeted marketing campaigns can be designed to showcase the unique offerings of City Hotel and reach out to potential customers.\n",
        "\n",
        "Enhance Revenue Generation: As City Hotel's average daily rate is slightly higher, the client can explore opportunities to optimize revenue further. Dynamic pricing strategies can be implemented to maximize revenue during peak seasons and events. Additionally, creating attractive packages and offers can entice guests to choose City Hotel for their stays.\n",
        "\n",
        "Target Online Travel Agencies: The high number of bookings from the Online TA segment presents an opportunity for the client to strengthen partnerships with online travel agencies and tour operators. Collaborating with these channels can lead to increased visibility and bookings.\n",
        "\n",
        "Customer Experience Improvement: Understanding the preferences of guests and their reasons for cancellations can help the client enhance the overall customer experience. Special attention can be given to meeting the needs of corporate travelers and encouraging direct bookings by offering personalized experiences and loyalty rewards.\n",
        "\n",
        "Promote Resort Hotel's Unique Offerings: To increase bookings for Resort Hotel, the client can highlight its unique features such as leisure amenities, recreational facilities, and scenic locations. Targeted marketing campaigns can attract vacationers seeking relaxation and enjoyable experiences."
      ],
      "metadata": {
        "id": "pASKb0qOza21"
      }
    },
    {
      "cell_type": "markdown",
      "source": [
        "# **Conclusion**"
      ],
      "metadata": {
        "id": "gCX9965dhzqZ"
      }
    },
    {
      "cell_type": "markdown",
      "source": [
        "\n",
        "\n",
        "The Hotel Booking Analysis EDA project aimed to gain insights into the hotel booking dataset, consisting of information related to two types of hotels, City Hotel and Resort Hotel. The dataset was thoroughly analyzed and visualized to extract valuable information, which can aid in making data-driven decisions to optimize business operations and enhance customer experience.\n",
        "\n",
        "Key Insights:\n",
        "\n",
        "Preference for City Hotel: The analysis revealed that City Hotels have a higher number of bookings, revenue, and average daily rates compared to Resort Hotels. This suggests that City Hotels are more popular among guests and attract a larger customer base.\n",
        "\n",
        "Seasonal Variation: Both hotels experience fluctuations in guest numbers throughout the year, with August being the peak month for bookings and January being the lowest. April, May, and June also showed significant guest numbers, indicating popular vacation periods.\n",
        "\n",
        "Guest Demographics: The analysis provided insights into the preferred meal plans, room types, and total guests for bookings. \"Bed and Breakfast\" meal plan and Room Type 'A' were the most popular choices among guests.\n",
        "\n",
        "Cancellation Trends: City Hotel had a higher percentage of canceled bookings compared to Resort Hotel. Understanding the reasons behind cancellations can help in improving customer satisfaction and optimizing booking strategies.\n",
        "\n",
        "Lead Time and Revenue: The analysis indicated that longer lead times might be associated with a higher likelihood of cancellations. Both hotels generated substantial revenue, with City Hotel's revenue slightly higher.\n",
        "\n",
        "Distribution Channels: Travel Agency/Tour Operator was the most prominent booking distribution channel for both hotels, while direct bookings had a higher revenue share for Resort Hotel.\n",
        "\n",
        "Customer Segmentation: Understanding customer preferences and booking patterns can enable targeted marketing efforts to cater to specific guest segments effectively."
      ],
      "metadata": {
        "id": "Fjb1IsQkh3yE"
      }
    },
    {
      "cell_type": "markdown",
      "source": [
        "### ***Hurrah! You have successfully completed your EDA Capstone Project !!!***"
      ],
      "metadata": {
        "id": "gIfDvo9L0UH2"
      }
    }
  ]
}